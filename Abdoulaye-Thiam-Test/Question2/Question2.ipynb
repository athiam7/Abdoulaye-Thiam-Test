{
 "cells": [
  {
   "cell_type": "markdown",
   "id": "92a2d083-ed03-42ab-87c3-59045d03b0b8",
   "metadata": {},
   "source": [
    "# Question 2\n"
   ]
  },
  {
   "cell_type": "markdown",
   "id": "1cdc7c50-706a-4e92-bccf-151617a23570",
   "metadata": {},
   "source": [
    "## Getting the data from the csv file"
   ]
  },
  {
   "cell_type": "code",
   "execution_count": 3,
   "id": "c9b23a84-c7d1-4328-93f1-1300e26270b5",
   "metadata": {},
   "outputs": [
    {
     "name": "stderr",
     "output_type": "stream",
     "text": [
      "Setting default log level to \"WARN\".\n",
      "To adjust logging level use sc.setLogLevel(newLevel). For SparkR, use setLogLevel(newLevel).\n",
      "24/09/06 13:12:42 WARN NativeCodeLoader: Unable to load native-hadoop library for your platform... using builtin-java classes where applicable\n"
     ]
    }
   ],
   "source": [
    "import pyspark\n",
    "from pyspark.sql import SparkSession\n",
    "from pyspark.sql.functions import *\n",
    "from pyspark.sql.types import *\n",
    "from pyspark.sql import functions\n",
    "\n",
    "spark = SparkSession.builder.appName(\"Datacamp Pyspark Tutorial\").config(\"spark.memory.offHeap.enabled\",\"true\").config(\"spark.memory.offHeap.size\",\"10g\").getOrCreate()"
   ]
  },
  {
   "cell_type": "code",
   "execution_count": 35,
   "id": "6d1cffa9-e586-4fe1-8072-94f3d7770f2e",
   "metadata": {},
   "outputs": [],
   "source": [
    "spark.sparkContext.setLogLevel(\"ERROR\")"
   ]
  },
  {
   "cell_type": "code",
   "execution_count": 43,
   "id": "28bb669c-c6d8-4758-b8cf-bbada4a1b4a4",
   "metadata": {},
   "outputs": [],
   "source": [
    "df = spark.read.csv('data.csv',header=True)"
   ]
  },
  {
   "cell_type": "code",
   "execution_count": 45,
   "id": "621758f9-cc92-490c-abd2-7d78403cd675",
   "metadata": {},
   "outputs": [
    {
     "name": "stdout",
     "output_type": "stream",
     "text": [
      "+---------+---------+-----------------------------------+--------+--------------+---------+----------+--------------+\n",
      "|InvoiceNo|StockCode|Description                        |Quantity|InvoiceDate   |UnitPrice|CustomerID|Country       |\n",
      "+---------+---------+-----------------------------------+--------+--------------+---------+----------+--------------+\n",
      "|536365   |85123A   |WHITE HANGING HEART T-LIGHT HOLDER |6       |12/1/2010 8:26|2.55     |17850     |United Kingdom|\n",
      "|536365   |71053    |WHITE METAL LANTERN                |6       |12/1/2010 8:26|3.39     |17850     |United Kingdom|\n",
      "|536365   |84406B   |CREAM CUPID HEARTS COAT HANGER     |8       |12/1/2010 8:26|2.75     |17850     |United Kingdom|\n",
      "|536365   |84029G   |KNITTED UNION FLAG HOT WATER BOTTLE|6       |12/1/2010 8:26|3.39     |17850     |United Kingdom|\n",
      "|536365   |84029E   |RED WOOLLY HOTTIE WHITE HEART.     |6       |12/1/2010 8:26|3.39     |17850     |United Kingdom|\n",
      "+---------+---------+-----------------------------------+--------+--------------+---------+----------+--------------+\n",
      "only showing top 5 rows\n",
      "\n"
     ]
    }
   ],
   "source": [
    "df.show(5,0)"
   ]
  },
  {
   "cell_type": "markdown",
   "id": "aab161a5-0eca-41e8-a172-a730d5051b5f",
   "metadata": {},
   "source": [
    "## Cleaning the Data"
   ]
  },
  {
   "cell_type": "code",
   "execution_count": 57,
   "id": "c250ade3-2ce5-4494-bd21-f7495c2e2091",
   "metadata": {},
   "outputs": [
    {
     "name": "stdout",
     "output_type": "stream",
     "text": [
      "root\n",
      " |-- InvoiceNo: string (nullable = true)\n",
      " |-- StockCode: string (nullable = true)\n",
      " |-- Description: string (nullable = true)\n",
      " |-- Quantity: string (nullable = true)\n",
      " |-- InvoiceDate: string (nullable = true)\n",
      " |-- UnitPrice: string (nullable = true)\n",
      " |-- CustomerID: string (nullable = true)\n",
      " |-- Country: string (nullable = true)\n",
      "\n"
     ]
    }
   ],
   "source": [
    "df.printSchema()"
   ]
  },
  {
   "cell_type": "code",
   "execution_count": 59,
   "id": "9de39f3b-efcc-4461-a549-db82df12c4a5",
   "metadata": {},
   "outputs": [
    {
     "name": "stdout",
     "output_type": "stream",
     "text": [
      "root\n",
      " |-- InvoiceNo: string (nullable = true)\n",
      " |-- StockCode: string (nullable = true)\n",
      " |-- Description: string (nullable = true)\n",
      " |-- Quantity: integer (nullable = true)\n",
      " |-- InvoiceDate: timestamp (nullable = true)\n",
      " |-- UnitPrice: integer (nullable = true)\n",
      " |-- CustomerID: string (nullable = true)\n",
      " |-- Country: string (nullable = true)\n",
      "\n",
      "+---------+---------+-----------------------------------+--------+-------------------+---------+----------+--------------+\n",
      "|InvoiceNo|StockCode|Description                        |Quantity|InvoiceDate        |UnitPrice|CustomerID|Country       |\n",
      "+---------+---------+-----------------------------------+--------+-------------------+---------+----------+--------------+\n",
      "|536365   |85123A   |WHITE HANGING HEART T-LIGHT HOLDER |6       |2009-12-27 08:26:00|2        |17850     |United Kingdom|\n",
      "|536365   |71053    |WHITE METAL LANTERN                |6       |2009-12-27 08:26:00|3        |17850     |United Kingdom|\n",
      "|536365   |84406B   |CREAM CUPID HEARTS COAT HANGER     |8       |2009-12-27 08:26:00|2        |17850     |United Kingdom|\n",
      "|536365   |84029G   |KNITTED UNION FLAG HOT WATER BOTTLE|6       |2009-12-27 08:26:00|3        |17850     |United Kingdom|\n",
      "|536365   |84029E   |RED WOOLLY HOTTIE WHITE HEART.     |6       |2009-12-27 08:26:00|3        |17850     |United Kingdom|\n",
      "+---------+---------+-----------------------------------+--------+-------------------+---------+----------+--------------+\n",
      "only showing top 5 rows\n",
      "\n"
     ]
    }
   ],
   "source": [
    "# Correct data types\n",
    "# Converting InvoiceDate from String to Datetime, Quantity and UnitPrice to Interger\n",
    "spark.sql(\"set spark.sql.legacy.timeParserPolicy=LEGACY\")\n",
    "df2 = df.withColumn(\"Quantity\",col(\"Quantity\").cast(IntegerType())) \\\n",
    "    .withColumn(\"UnitPrice\",col(\"UnitPrice\").cast(IntegerType())) \\\n",
    "    .withColumn('InvoiceDate',to_timestamp(\"InvoiceDate\", 'MM/dd/YY HH:mm'))\n",
    "\n",
    "# I am not filtering out rows with null values for the CustomerId as they could represent actual Sales but for non registered customers.\n",
    "\n",
    "df2.printSchema()\n",
    "\n",
    "df2.show(5,0)"
   ]
  },
  {
   "cell_type": "code",
   "execution_count": null,
   "id": "e5c1bd3b-57ca-4e9f-ab99-757fde9271b8",
   "metadata": {},
   "outputs": [],
   "source": []
  },
  {
   "cell_type": "markdown",
   "id": "ce970636-5587-4ab0-926c-4ef6405dcfad",
   "metadata": {},
   "source": [
    "## Sales and orders per day"
   ]
  },
  {
   "cell_type": "code",
   "execution_count": 91,
   "id": "7e17cda5-5f83-4009-b252-f4c917340276",
   "metadata": {
    "scrolled": true
   },
   "outputs": [
    {
     "name": "stderr",
     "output_type": "stream",
     "text": [
      "[Stage 86:==============>                                           (1 + 3) / 4]\r"
     ]
    },
    {
     "name": "stdout",
     "output_type": "stream",
     "text": [
      "+----------+-------+------+\n",
      "|InvoiceDay|  Sales|Orders|\n",
      "+----------+-------+------+\n",
      "|2009-12-27| 568018|  2025|\n",
      "|2010-12-26|6491074| 23875|\n",
      "+----------+-------+------+\n",
      "\n"
     ]
    },
    {
     "name": "stderr",
     "output_type": "stream",
     "text": [
      "                                                                                \r"
     ]
    }
   ],
   "source": [
    "df2 = df2.withColumn('Sales', col(\"Quantity\") * col(\"UnitPrice\")) \\\n",
    "    .withColumn(\"InvoiceDay\",col(\"InvoiceDate\").cast(DateType()))\n",
    "\n",
    "df2.groupBy('InvoiceDay').agg(sum('Sales').alias('Sales'),countDistinct('InvoiceNo').alias('Orders')).show()\n"
   ]
  },
  {
   "cell_type": "code",
   "execution_count": null,
   "id": "ae49557e-9468-4bef-817b-f22eacd469e8",
   "metadata": {},
   "outputs": [],
   "source": []
  },
  {
   "cell_type": "markdown",
   "id": "9f54ab0c-4796-4106-aabc-7f1b701a5fe6",
   "metadata": {},
   "source": [
    "## Top 10 Products for each month"
   ]
  },
  {
   "cell_type": "code",
   "execution_count": 98,
   "id": "f7b093e5-1868-4f51-89d6-ddc0960b04bb",
   "metadata": {},
   "outputs": [
    {
     "name": "stdout",
     "output_type": "stream",
     "text": [
      "+---------+---------+--------------------+--------+-------------------+---------+----------+--------------+-----+----------+----+-----+\n",
      "|InvoiceNo|StockCode|         Description|Quantity|        InvoiceDate|UnitPrice|CustomerID|       Country|Sales|InvoiceDay|year|month|\n",
      "+---------+---------+--------------------+--------+-------------------+---------+----------+--------------+-----+----------+----+-----+\n",
      "|   536365|   85123A|WHITE HANGING HEA...|       6|2009-12-27 08:26:00|        2|     17850|United Kingdom|   12|2009-12-27|2009|   12|\n",
      "|   536365|    71053| WHITE METAL LANTERN|       6|2009-12-27 08:26:00|        3|     17850|United Kingdom|   18|2009-12-27|2009|   12|\n",
      "|   536365|   84406B|CREAM CUPID HEART...|       8|2009-12-27 08:26:00|        2|     17850|United Kingdom|   16|2009-12-27|2009|   12|\n",
      "|   536365|   84029G|KNITTED UNION FLA...|       6|2009-12-27 08:26:00|        3|     17850|United Kingdom|   18|2009-12-27|2009|   12|\n",
      "|   536365|   84029E|RED WOOLLY HOTTIE...|       6|2009-12-27 08:26:00|        3|     17850|United Kingdom|   18|2009-12-27|2009|   12|\n",
      "+---------+---------+--------------------+--------+-------------------+---------+----------+--------------+-----+----------+----+-----+\n",
      "only showing top 5 rows\n",
      "\n"
     ]
    }
   ],
   "source": [
    "df2.show(5)"
   ]
  },
  {
   "cell_type": "code",
   "execution_count": 116,
   "id": "a4c8e595-f108-4379-b28d-34b0296e0a58",
   "metadata": {},
   "outputs": [
    {
     "name": "stderr",
     "output_type": "stream",
     "text": [
      "[Stage 108:==============>                                          (1 + 3) / 4]\r"
     ]
    },
    {
     "name": "stdout",
     "output_type": "stream",
     "text": [
      "+----+-----+---------+--------------------+------------+----+\n",
      "|year|month|StockCode|         Description|monthlySales|rank|\n",
      "+----+-----+---------+--------------------+------------+----+\n",
      "|2009|   12|    22423|REGENCY CAKESTAND...|       25237|   1|\n",
      "|2009|   12|      DOT|      DOTCOM POSTAGE|       24641|   2|\n",
      "|2009|   12|   84029E|RED WOOLLY HOTTIE...|        8140|   3|\n",
      "|2009|   12|    22114|HOT WATER BOTTLE ...|        7492|   4|\n",
      "|2009|   12|    21479|WHITE SKULL HOT W...|        7487|   5|\n",
      "|2009|   12|    22086|PAPER CHAIN KIT 5...|        7348|   6|\n",
      "|2009|   12|   85123A|WHITE HANGING HEA...|        6871|   7|\n",
      "|2009|   12|    79321|       CHILLI LIGHTS|        6790|   8|\n",
      "|2009|   12|    22112|CHOCOLATE HOT WAT...|        6608|   9|\n",
      "|2009|   12|    21623|VINTAGE UNION JAC...|        6567|  10|\n",
      "|2010|   12|      DOT|      DOTCOM POSTAGE|      181255|   1|\n",
      "|2010|   12|    22423|REGENCY CAKESTAND...|      128147|   2|\n",
      "|2010|   12|    47566|       PARTY BUNTING|       86471|   3|\n",
      "|2010|   12|   85123A|WHITE HANGING HEA...|       68710|   4|\n",
      "|2010|   12|   85099B|JUMBO BAG RED RET...|       62612|   5|\n",
      "|2010|   12|     POST|             POSTAGE|       61866|   6|\n",
      "|2010|   12|    23084|  RABBIT NIGHT LIGHT|       48719|   7|\n",
      "|2010|   12|    22086|PAPER CHAIN KIT 5...|       42705|   8|\n",
      "|2010|   12|    22502|PICNIC BASKET WIC...|       39589|   9|\n",
      "|2010|   12|    79321|       CHILLI LIGHTS|       39359|  10|\n",
      "+----+-----+---------+--------------------+------------+----+\n",
      "\n"
     ]
    },
    {
     "name": "stderr",
     "output_type": "stream",
     "text": [
      "                                                                                \r"
     ]
    }
   ],
   "source": [
    "from pyspark.sql import Window\n",
    "from pyspark.sql.functions import row_number\n",
    "\n",
    "df2 = df2.withColumn('year', year(col(\"InvoiceDate\"))) \\\n",
    "    .withColumn('month', month(col(\"InvoiceDate\")))\n",
    "\n",
    "monthly_sales = df2.groupBy(\"year\",\"month\",\"StockCode\",\"Description\").agg(sum(\"Sales\").alias(\"monthlySales\"))\n",
    "w = Window.partitionBy(\"year\",\"month\").orderBy(col(\"monthlySales\").desc())\n",
    "r = monthly_sales.withColumn(\"rank\",row_number().over(w))\n",
    "\n",
    "top10 = r.filter(col(\"rank\") <= 10)\n",
    "top10.show(50)"
   ]
  },
  {
   "cell_type": "markdown",
   "id": "a6aa523d-7348-45fe-907b-3793b7dbf991",
   "metadata": {},
   "source": [
    "## Writing the DataFrame in the db"
   ]
  },
  {
   "cell_type": "code",
   "execution_count": null,
   "id": "92cc2efb-3d36-4da1-b5b1-e41121c36397",
   "metadata": {},
   "outputs": [],
   "source": [
    "# Writing back to a MySQL database\n",
    "url = \"jdbc:mysql://localhost:3306/tempdb\"\n",
    "properties = {\n",
    "    \"user\": \"tmpuser\",\n",
    "    \"password\": \"yd51Tq1@eK\",\n",
    "    \"driver\": \"com.mysql.jdbc.Driver\"\n",
    "}\n",
    "\n",
    "table_name = \"Sales\"\n",
    "df = spark.read.jdbc(url=url, table=table_name, properties=properties)\n",
    "\n",
    "mode = \"overwrite\"\n",
    "df.write.jdbc(url=url, table=table_name, mode=mode, properties=properties)"
   ]
  }
 ],
 "metadata": {
  "kernelspec": {
   "display_name": "Python 3 (ipykernel)",
   "language": "python",
   "name": "python3"
  },
  "language_info": {
   "codemirror_mode": {
    "name": "ipython",
    "version": 3
   },
   "file_extension": ".py",
   "mimetype": "text/x-python",
   "name": "python",
   "nbconvert_exporter": "python",
   "pygments_lexer": "ipython3",
   "version": "3.12.4"
  }
 },
 "nbformat": 4,
 "nbformat_minor": 5
}
