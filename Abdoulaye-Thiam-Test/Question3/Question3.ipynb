{
 "cells": [
  {
   "cell_type": "markdown",
   "id": "e8482194-adad-4902-8d1f-b5c4bb805d61",
   "metadata": {},
   "source": [
    "# Question 3"
   ]
  },
  {
   "cell_type": "markdown",
   "id": "0eb9fe53-edf7-4071-ab53-fb12f70ce550",
   "metadata": {},
   "source": [
    "## Ingesting the dataset into a SQL db"
   ]
  },
  {
   "cell_type": "code",
   "execution_count": 1,
   "id": "28c44aac-3b29-4abd-b64c-3d63d61435f1",
   "metadata": {},
   "outputs": [
    {
     "name": "stdout",
     "output_type": "stream",
     "text": [
      "(1, 'For Those About To Rock We Salute You', 1)\n",
      "(2, 'Balls to the Wall', 2)\n",
      "(3, 'Restless and Wild', 2)\n",
      "(4, 'Let There Be Rock', 1)\n",
      "(5, 'Big Ones', 3)\n",
      "(6, 'Jagged Little Pill', 4)\n",
      "(7, 'Facelift', 5)\n",
      "(8, 'Warner 25 Anos', 6)\n",
      "(9, 'Plays Metallica By Four Cellos', 7)\n",
      "(10, 'Audioslave', 8)\n"
     ]
    }
   ],
   "source": [
    "# Import modules\n",
    "import sqlite3\n",
    "import pandas as pd\n",
    "\n",
    "# Connecting to the db and getting a curson to execute queries\n",
    "conn = sqlite3.connect('Chinook_Sqlite.sqlite')\n",
    "cursor = conn.cursor()\n",
    "\n",
    "# checking a few rows\n",
    "cursor.execute(\"SELECT * FROM Album\")\n",
    "rows = cursor.fetchall()\n",
    "\n",
    "for r in range(10):\n",
    "    print(rows[r])"
   ]
  },
  {
   "cell_type": "code",
   "execution_count": null,
   "id": "4a02d668-6241-4644-992f-7955ed3d3ab0",
   "metadata": {},
   "outputs": [],
   "source": []
  },
  {
   "cell_type": "markdown",
   "id": "5641e0f5-bf91-45d2-aea9-3de9b9cd2f2e",
   "metadata": {},
   "source": [
    "## Query 1: Find the top 5 most popular genres by total sales."
   ]
  },
  {
   "cell_type": "code",
   "execution_count": 69,
   "id": "2a1c89e9-3835-43bf-b514-d4be7b5e8333",
   "metadata": {},
   "outputs": [
    {
     "data": {
      "text/plain": [
       "[('Rock', 826.65),\n",
       " ('Latin', 382.14),\n",
       " ('Metal', 261.36),\n",
       " ('Alternative & Punk', 241.56),\n",
       " ('TV Shows', 93.53)]"
      ]
     },
     "execution_count": 69,
     "metadata": {},
     "output_type": "execute_result"
    }
   ],
   "source": [
    "# Getting the data \n",
    "cursor.execute(\"\"\"\n",
    "    select g.Name as genreName, sum(Quantity*i.UnitPrice) as totalSales\n",
    "    from Genre g\n",
    "    inner join Track t\n",
    "        on g.GenreId = t.GenreId\n",
    "    inner join InvoiceLine i\n",
    "        on t.TrackId = i.TrackId\n",
    "    group by 1\n",
    "    order by 2 desc\n",
    "    limit 5\n",
    "\"\"\")\n",
    "rows = cursor.fetchall()\n",
    "\n",
    "# printing them\n",
    "rows"
   ]
  },
  {
   "cell_type": "code",
   "execution_count": 71,
   "id": "b40fbe07-ebcd-47b6-a73b-181ffe003228",
   "metadata": {},
   "outputs": [],
   "source": [
    "# exporting the results to csv\n",
    "colnames = [d[0] for d in cursor.description]\n",
    "pd.DataFrame(rows).to_csv('Question3_Task2_Query1.csv', header=colnames, index=False)"
   ]
  },
  {
   "cell_type": "code",
   "execution_count": null,
   "id": "0f2d2fab-3781-42c7-b9d3-be42b0a11f34",
   "metadata": {},
   "outputs": [],
   "source": []
  },
  {
   "attachments": {},
   "cell_type": "markdown",
   "id": "937f2e1b-00c2-4fc3-a0f1-025fe5d01092",
   "metadata": {},
   "source": [
    "## Query 2: Calculate the average invoice total by country."
   ]
  },
  {
   "cell_type": "code",
   "execution_count": 65,
   "id": "c4f21c82-a2c1-4aa5-8420-3d19a59c5919",
   "metadata": {},
   "outputs": [
    {
     "data": {
      "text/plain": [
       "[('Chile', 6.659999999999999),\n",
       " ('Ireland', 6.517142857142857),\n",
       " ('Hungary', 6.517142857142857),\n",
       " ('Czech Republic', 6.445714285714286),\n",
       " ('Austria', 6.088571428571428),\n",
       " ('Finland', 5.945714285714286),\n",
       " ('Netherlands', 5.8028571428571425),\n",
       " ('India', 5.78923076923077),\n",
       " ('USA', 5.747912087912088),\n",
       " ('Norway', 5.659999999999999),\n",
       " ('Germany', 5.588571428571428),\n",
       " ('France', 5.574285714285714),\n",
       " ('Sweden', 5.517142857142857),\n",
       " ('Portugal', 5.517142857142857),\n",
       " ('Brazil', 5.4314285714285715),\n",
       " ('Canada', 5.4278571428571425),\n",
       " ('United Kingdom', 5.3742857142857146),\n",
       " ('Spain', 5.374285714285714),\n",
       " ('Poland', 5.374285714285714),\n",
       " ('Italy', 5.374285714285714),\n",
       " ('Denmark', 5.374285714285714),\n",
       " ('Belgium', 5.374285714285714),\n",
       " ('Australia', 5.374285714285714),\n",
       " ('Argentina', 5.374285714285714)]"
      ]
     },
     "execution_count": 65,
     "metadata": {},
     "output_type": "execute_result"
    }
   ],
   "source": [
    "# Getting the data \n",
    "cursor.execute(\"\"\" \n",
    "    select BillingCountry, avg(total) as avgInvoiceTotal\n",
    "    from Invoice\n",
    "    group by 1\n",
    "    order by 2 desc\n",
    "\"\"\")\n",
    "rows = cursor.fetchall()\n",
    "\n",
    "# and checking a few rows\n",
    "rows"
   ]
  },
  {
   "cell_type": "code",
   "execution_count": 67,
   "id": "b5f81acd-4c0a-4865-ab29-d9fafd386938",
   "metadata": {},
   "outputs": [],
   "source": [
    "# exporting the results to csv\n",
    "colnames = [d[0] for d in cursor.description]\n",
    "pd.DataFrame(rows).to_csv('Question3_Task2_Query2.csv', header=colnames, index=False)"
   ]
  },
  {
   "cell_type": "code",
   "execution_count": null,
   "id": "c31e3c45-56c1-4e9b-ae3b-e4402b3e3d1d",
   "metadata": {},
   "outputs": [],
   "source": []
  },
  {
   "cell_type": "markdown",
   "id": "c4377913-a712-4fc5-bacc-d287adc813d4",
   "metadata": {},
   "source": [
    "## Query 3: Identify the top 3 most valued customers based on the total sum of invoices."
   ]
  },
  {
   "cell_type": "code",
   "execution_count": 59,
   "id": "5733c383-83b1-4d4f-b783-db51c6584b94",
   "metadata": {},
   "outputs": [
    {
     "data": {
      "text/plain": [
       "[('Frank', 'Harris', 81.24),\n",
       " ('Mark', 'Philips', 75.24),\n",
       " ('Helena', 'Holý', 49.62)]"
      ]
     },
     "execution_count": 59,
     "metadata": {},
     "output_type": "execute_result"
    }
   ],
   "source": [
    "# Getting the data \n",
    "cursor.execute(\"\"\"\n",
    "    select FirstName, LastName, sum(total) as invoiceTotal\n",
    "    from Customer c\n",
    "    inner join Invoice i\n",
    "        on c.CustomerId = i.CustomerId\n",
    "    group by 1\n",
    "    order by 3 desc\n",
    "    limit 3\n",
    "\"\"\")\n",
    "rows = cursor.fetchall()\n",
    "\n",
    "# printing them\n",
    "rows"
   ]
  },
  {
   "cell_type": "code",
   "execution_count": 61,
   "id": "27239dfe-7dec-4ccf-a5ae-b4e2d074fb48",
   "metadata": {},
   "outputs": [],
   "source": [
    "# exporting the results to csv\n",
    "colnames = [d[0] for d in cursor.description]\n",
    "pd.DataFrame(rows).to_csv('Question3_Task2_Query3.csv', header=colnames, index=False)"
   ]
  },
  {
   "cell_type": "code",
   "execution_count": null,
   "id": "12a6fbfa-d8b9-4855-81ef-ede962cce1a5",
   "metadata": {},
   "outputs": [],
   "source": []
  },
  {
   "cell_type": "markdown",
   "id": "21b8c44d-8fa6-4653-99f6-86cd9c732d6a",
   "metadata": {},
   "source": [
    "## Query 4: Generate a report listing all employees who have sold over a specified amount (provide examples for amounts 1000,1000,5000)."
   ]
  },
  {
   "cell_type": "code",
   "execution_count": 55,
   "id": "f5e872ab-d056-4186-924d-8df34e6813ef",
   "metadata": {},
   "outputs": [],
   "source": [
    "# Getting the data \n",
    "cursor.execute(\"\"\"\n",
    "    select e.FirstName, e.LastName, sum(total) as invoiceTotal\n",
    "    from Employee e\n",
    "    inner join Customer c\n",
    "        on e.EmployeeId = c.SupportRepId\n",
    "    inner join Invoice i\n",
    "        on c.CustomerId = i.CustomerId\n",
    "    group by 1\n",
    "    having sum(total) > 800\n",
    "    order by 3 desc\n",
    "\"\"\")\n",
    "rows = cursor.fetchall()\n",
    "\n",
    "# printing them to check\n",
    "rows"
   ]
  },
  {
   "cell_type": "code",
   "execution_count": 57,
   "id": "478747d5-b33d-4987-a498-5af505642e7b",
   "metadata": {},
   "outputs": [],
   "source": [
    "# exporting the results to csv\n",
    "colnames = [d[0] for d in cursor.description]\n",
    "pd.DataFrame(rows).to_csv('Question3_Task2_Query4.csv', header=colnames, index=False)"
   ]
  },
  {
   "cell_type": "code",
   "execution_count": null,
   "id": "e0d32c76-5a9a-44a7-a9c7-02f5e797a676",
   "metadata": {},
   "outputs": [],
   "source": []
  },
  {
   "cell_type": "markdown",
   "id": "66c91c6f-1b37-4738-92af-13565ca3a130",
   "metadata": {},
   "source": [
    "## A few insights\n",
    "1. North America (USA and Canada) have the most sales and customers. Followed by France and Brazil.\n",
    "2. The top 3 countries in terms of Sales (USA, Canada and France) represents 43.8% of total Sales.\n",
    "3. The most added track in playlists is \"A Midsummer Night's Dream, Op.61 Incidental Music: No.7 Notturno\" from Metallica, present in 5 playlists.\n",
    "4. There is no track not included in at least one playlist. "
   ]
  },
  {
   "cell_type": "code",
   "execution_count": 89,
   "id": "bf32da0d-99fc-41d3-b7f9-b08450ab995f",
   "metadata": {},
   "outputs": [
    {
     "data": {
      "text/plain": [
       "[('USA', 523.06, 13, 5.747912087912088),\n",
       " ('Canada', 303.96, 8, 5.4278571428571425),\n",
       " ('France', 195.1, 5, 5.574285714285714),\n",
       " ('Brazil', 190.1, 5, 5.4314285714285715),\n",
       " ('Germany', 156.48, 4, 5.588571428571428),\n",
       " ('United Kingdom', 112.86, 3, 5.3742857142857146),\n",
       " ('Portugal', 77.24, 2, 5.517142857142857),\n",
       " ('India', 75.26, 2, 5.78923076923077),\n",
       " ('Czech Republic', 90.24, 2, 6.445714285714286),\n",
       " ('Sweden', 38.62, 1, 5.517142857142857),\n",
       " ('Spain', 37.62, 1, 5.374285714285714),\n",
       " ('Poland', 37.62, 1, 5.374285714285714),\n",
       " ('Norway', 39.62, 1, 5.659999999999999),\n",
       " ('Netherlands', 40.62, 1, 5.8028571428571425),\n",
       " ('Italy', 37.62, 1, 5.374285714285714),\n",
       " ('Ireland', 45.62, 1, 6.517142857142857),\n",
       " ('Hungary', 45.62, 1, 6.517142857142857),\n",
       " ('Finland', 41.62, 1, 5.945714285714286),\n",
       " ('Denmark', 37.62, 1, 5.374285714285714),\n",
       " ('Chile', 46.62, 1, 6.659999999999999),\n",
       " ('Belgium', 37.62, 1, 5.374285714285714),\n",
       " ('Austria', 42.62, 1, 6.088571428571428),\n",
       " ('Australia', 37.62, 1, 5.374285714285714),\n",
       " ('Argentina', 37.62, 1, 5.374285714285714)]"
      ]
     },
     "execution_count": 89,
     "metadata": {},
     "output_type": "execute_result"
    }
   ],
   "source": [
    "# Getting the data \n",
    "cursor.execute(\"\"\" \n",
    "    select BillingCountry, sum(total), count(distinct c.CustomerId),  avg(total)\n",
    "    from Invoice i\n",
    "    inner join Customer c\n",
    "        on c.CustomerId = i.CustomerId\n",
    "    group by 1\n",
    "    order by 3 desc\n",
    "\"\"\")\n",
    "rows = cursor.fetchall()\n",
    "\n",
    "# and checking a few rows\n",
    "rows"
   ]
  },
  {
   "cell_type": "code",
   "execution_count": null,
   "id": "7723da4d-e1a3-4842-b1f4-75fa641bb21b",
   "metadata": {},
   "outputs": [],
   "source": [
    "# Getting the data \n",
    "cursor.execute(\"\"\" \n",
    "    select sum(case when BillingCountry in ('USA','Canada','France') then total end) / sum(total)\n",
    "    from Invoice i\n",
    "    inner join Customer c\n",
    "        on c.CustomerId = i.CustomerId\n",
    "\"\"\")\n",
    "rows = cursor.fetchall()\n",
    "\n",
    "# and checking a few rows\n",
    "rows"
   ]
  },
  {
   "cell_type": "code",
   "execution_count": 115,
   "id": "0f4ec180-fa7f-4dae-a3ab-b516e12b55b2",
   "metadata": {},
   "outputs": [
    {
     "data": {
      "text/plain": [
       "[(\"A Midsummer Night's Dream, Op.61 Incidental Music: No.7 Notturno\",\n",
       "  '...And Justice For All',\n",
       "  'Metallica',\n",
       "  5)]"
      ]
     },
     "execution_count": 115,
     "metadata": {},
     "output_type": "execute_result"
    }
   ],
   "source": [
    "# Getting the data \n",
    "cursor.execute(\"\"\" \n",
    "    select t.name as trackName, a.Title, ar.name as artistName, count(distinct PlaylistId) as nbPlaylist\n",
    "    from Track t\n",
    "    inner join Album a\n",
    "        on t.AlbumId = t.AlbumId\n",
    "    inner join Artist ar\n",
    "        on a.ArtistId = ar.ArtistId\n",
    "    inner join PlaylistTrack p\n",
    "        on t.TrackId = p.TrackId\n",
    "    group by 1,2,3\n",
    "    order by 4 desc\n",
    "    limit 1\n",
    "\"\"\")\n",
    "rows = cursor.fetchall()\n",
    "\n",
    "# and checking a few rows\n",
    "rows"
   ]
  },
  {
   "cell_type": "code",
   "execution_count": 127,
   "id": "e108b152-f9c0-49b7-948d-0a2167fb4f38",
   "metadata": {},
   "outputs": [
    {
     "data": {
      "text/plain": [
       "[(0,)]"
      ]
     },
     "execution_count": 127,
     "metadata": {},
     "output_type": "execute_result"
    }
   ],
   "source": [
    "# Getting the data \n",
    "cursor.execute(\"\"\" \n",
    "    select count(TrackId) as nb\n",
    "    from Track t\n",
    "    where not exists (select 1 from PlaylistTrack p where t.TrackId = p.TrackId)\n",
    "\"\"\")\n",
    "rows = cursor.fetchall()\n",
    "\n",
    "# and checking a few rows\n",
    "rows"
   ]
  },
  {
   "cell_type": "code",
   "execution_count": null,
   "id": "b52f5a4b-0dd9-478e-aa2e-55cfe1fb9c9d",
   "metadata": {},
   "outputs": [],
   "source": []
  },
  {
   "cell_type": "markdown",
   "id": "2882f6e4-9ddc-4601-b1d5-4f336d55da0b",
   "metadata": {},
   "source": [
    "## Final cleaning"
   ]
  },
  {
   "cell_type": "code",
   "execution_count": 67,
   "id": "b8abc166-f4fc-4f5e-8fa6-2b6bf54fe594",
   "metadata": {},
   "outputs": [],
   "source": [
    "# Committing the changes if needed\n",
    "conn.commit()\n",
    " \n",
    "# closing the database connection\n",
    "conn.close()"
   ]
  }
 ],
 "metadata": {
  "kernelspec": {
   "display_name": "Python 3 (ipykernel)",
   "language": "python",
   "name": "python3"
  },
  "language_info": {
   "codemirror_mode": {
    "name": "ipython",
    "version": 3
   },
   "file_extension": ".py",
   "mimetype": "text/x-python",
   "name": "python",
   "nbconvert_exporter": "python",
   "pygments_lexer": "ipython3",
   "version": "3.12.4"
  }
 },
 "nbformat": 4,
 "nbformat_minor": 5
}
